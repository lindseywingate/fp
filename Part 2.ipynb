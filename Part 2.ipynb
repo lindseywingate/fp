{
 "cells": [
  {
   "cell_type": "code",
   "execution_count": 1,
   "id": "21798a6f",
   "metadata": {},
   "outputs": [],
   "source": [
    "import cv2\n",
    "import os\n",
    "import numpy as np\n",
    "from PIL import Image"
   ]
  },
  {
   "cell_type": "code",
   "execution_count": 2,
   "id": "d690b47b",
   "metadata": {},
   "outputs": [],
   "source": [
    "with open(\"dataset/Videos/data_test1.rgb\", \"rb\") as f:\n",
    "    v = np.fromfile(f, np.dtype('B'))\n",
    "#setting the number of pixels in frame\n",
    "pxct = 129600\n",
    "#setting the number of frames\n",
    "frct = (int)(v.size/(3*pxct))"
   ]
  },
  {
   "cell_type": "code",
   "execution_count": 3,
   "id": "42ebf9d8",
   "metadata": {},
   "outputs": [],
   "source": [
    "init_video = []\n",
    "for frame_number in range(frct):\n",
    "        start = (frame_number) * pxct * 3\n",
    "        curr_frame = v[start:start + 3 * pxct]\n",
    "        final_frame = np.reshape(curr_frame, (480,270,3), order = 'F')\n",
    "        final_frame = np.rot90(final_frame,3)\n",
    "        final_frame = np.flip(final_frame,1)\n",
    "        \n",
    "        #searching these final frames for logos (new cell)\n",
    "        init_video.append(final_frame)"
   ]
  },
  {
   "cell_type": "code",
   "execution_count": 4,
   "id": "ef2dc35b",
   "metadata": {},
   "outputs": [],
   "source": [
    "#IMAGE RECOGNITION FOR BRANDS\n",
    "\n",
    "\n"
   ]
  },
  {
   "cell_type": "code",
   "execution_count": 5,
   "id": "cef44917",
   "metadata": {},
   "outputs": [],
   "source": [
    "from skimage.metrics import structural_similarity\n",
    "frame_stats = np.zeros((9000, 2)).tolist()\n"
   ]
  },
  {
   "cell_type": "code",
   "execution_count": 6,
   "id": "6cdf0daf",
   "metadata": {},
   "outputs": [],
   "source": [
    "#save beginning and end of cuts in number of frames\n",
    "cuts_begin = []\n",
    "cuts_end = []\n",
    "#storing the advertisements to replace with\n",
    "#indexed the same way as that of cuts_begin and cuts_end\n",
    "#if not to be replaced, a blank line\n",
    "replaced_advertisements = []"
   ]
  },
  {
   "cell_type": "code",
   "execution_count": 12,
   "id": "71b09823",
   "metadata": {},
   "outputs": [],
   "source": [
    "out = cv2.VideoWriter('video.avi', cv2.VideoWriter_fourcc(*'DIVX'), 30, (480, 270))\n",
    "for i in range(frct - 1):\n",
    "    out.write(init_video[i])\n",
    "out.release()"
   ]
  },
  {
   "cell_type": "code",
   "execution_count": 17,
   "id": "ec3a1ab5",
   "metadata": {},
   "outputs": [],
   "source": [
    "#image negatives for training\n",
    "for f in range(frct - 1):\n",
    "    if f > 3000 or f < 1200:\n",
    "        data = Image.fromarray(init_video[f]).convert('RGB')\n",
    "        data.save('images/{}.png'.format(f))"
   ]
  },
  {
   "cell_type": "code",
   "execution_count": 10,
   "id": "93d16fa8",
   "metadata": {},
   "outputs": [],
   "source": [
    "for frame_number in range(frct - 1):\n",
    "    #calculate new shots with histogram\n",
    "    #less means more similar\n",
    "    hist1 = cv2.calcHist([init_video[frame_number]],[0],None,[256],[0,256])\n",
    "    hist2 = cv2.calcHist([init_video[frame_number + 1]],[0],None,[256],[0,256])\n",
    "    score=cv2.compareHist(hist1,hist2,cv2.HISTCMP_BHATTACHARYYA)\n",
    "    \n",
    "    frame_stats[frame_number][0] = score\n",
    "    #store score for ssi\n",
    "    #less means more similar\n",
    "    #i1 = cv2.cvtColor(init_video[frame_number], cv2.COLOR_BGR2GRAY)\n",
    "    #i2 = cv2.cvtColor(init_video[frame_number + 1], cv2.COLOR_BGR2GRAY)\n",
    "    #score2 = structural_similarity(i1, i2)\n",
    "    #score2 = 1-score2 \n",
    "    #frame_stats[frame_number][1] = score2\n",
    "    \n",
    "    #score indicates sensitivity for shot changes\n",
    "    if score > 0.3:\n",
    "        #saves the image, currently used for debugging\n",
    "        #if score + score2 > 0.3:\n",
    "        data = Image.fromarray(init_video[frame_number]).convert('RGB')\n",
    "        data.save('images/{}.png'.format(frame_number))\n",
    "        data = Image.fromarray(init_video[frame_number+1]).convert('RGB')\n",
    "        data.save('images/{}.png'.format(frame_number+1))"
   ]
  },
  {
   "cell_type": "code",
   "execution_count": null,
   "id": "2ba0db14",
   "metadata": {},
   "outputs": [],
   "source": [
    "#reading in all other advertisements\n",
    "#saves in a dictionary with first part assumed to be the company name\n",
    "advertisements = {}\n",
    "PATHS_TO_ADVERTISEMENTS = \"dataset/Ads\"\n",
    "for file in os.listdir(PATHS_TO_ADVERTISEMENTS):\n",
    "    filename = os.fsdecode(file)\n",
    "    if filename.endswith(\".rgb\"): \n",
    "        vpath = os.path.join(PATHS_TO_ADVERTISEMENTS, filename)\n",
    "        with open(vpath, \"rb\") as f:\n",
    "            v = np.fromfile(f, np.dtype('B'))\n",
    "        #setting the number of pixels in frame\n",
    "        pxct = 129600\n",
    "        #setting the number of frames\n",
    "        frct = (int)(v.size/(3*pxct))\n",
    "        video = []\n",
    "        for frame_number in range(frct):\n",
    "            start = (frame_number) * pxct * 3\n",
    "            curr_frame = v[start:start + 3 * pxct]\n",
    "            final_frame = np.reshape(curr_frame, ( 480,270, 3), order = 'F')\n",
    "            final_frame = np.rot90(final_frame,3)\n",
    "            final_frame = np.flip(final_frame,1)\n",
    "            video.append(final_frame)\n",
    "        #Get the name of the company\n",
    "        key = filename.split('_')[0]\n",
    "        advertisements[key] = video\n",
    "        \n",
    "print(advertisements.keys())\n",
    "    "
   ]
  },
  {
   "cell_type": "code",
   "execution_count": null,
   "id": "992c1f44",
   "metadata": {},
   "outputs": [],
   "source": [
    "#splicing in videos with the names \n",
    "#save beginning and end of cuts in number of frames\n",
    "cuts_begin = [2400]\n",
    "cuts_end = [2849]\n",
    "#storing the advertisements to replace with\n",
    "#indexed the same way as that of cuts_begin and cuts_end\n",
    "#if not to be replaced, an empty string\n",
    "replaced_advertisements = [\"Subway\"]\n",
    "final_video = []\n",
    "for i in range (len(cuts_begin)):\n",
    "    if i == 0:\n",
    "        final_video = init_video[:cuts_begin[i]] + advertisements[replaced_advertisements[i]] + init_video[cuts_end[i]:]\n",
    "    else:\n",
    "        #further work required to sync frames iff ad lengths are variable\n",
    "        final_video = final_video[:cuts_begin[i]] + advertisements[replaced_advertisements[i]] + final_video[cuts_end[i]:]\n",
    "        "
   ]
  },
  {
   "cell_type": "code",
   "execution_count": null,
   "id": "44dcd07f",
   "metadata": {
    "scrolled": true
   },
   "outputs": [],
   "source": [
    "#create the video\n",
    "#file path, format, frames per second, width and height\n",
    "out = cv2.VideoWriter('video.avi', cv2.VideoWriter_fourcc(*'DIVX'), 30, (480, 270))\n",
    "frames = [0, 1, 2, 3, 4, 5, 6, 7, 8, 9, 10, 11, 12, 13, 14, 15, 16, 17, 18, 19, 20, 41, 42, 43, 44, 45, 46, 47, 48, 49, 50, 51, 52, 53, 54, 55, 56, 57, 58, 59, 60]    \n",
    "\n",
    "for i in range(len(final_video)):\n",
    "    #cv2.imshow('images/box-1.png', img)\n",
    "    data = Image.fromarray(final_video[i]).convert('RGB')\n",
    "#print(type(data))\n",
    "\n",
    "#convert rgb frame to png for writing\n",
    "    data.save('images/box-test.png'.format(1));\n",
    "\n",
    "#get new saved png frame\n",
    "    img = cv2.imread('images/box-test.png')\n",
    "\n",
    "    if(i in frames):\n",
    "#draw rectangle on frame\n",
    "        cv2.rectangle(img, (10,10), (100, 100), (0, 255, 0), 2)\n",
    "\n",
    "#just to verify box comes out in right spot\n",
    "        #cv2.imwrite(\"images/test-box.png\", img)\n",
    "\n",
    "#change back to rgb for avi video\n",
    "        #img_rgb = cv2.cvtColor(img, cv2.COLOR_BGR2RGB)\n",
    "        out.write(img)\n",
    "    else:\n",
    "        out.write(img)\n",
    "\n",
    "out.release()"
   ]
  },
  {
   "cell_type": "code",
   "execution_count": null,
   "id": "81d97c09",
   "metadata": {},
   "outputs": [],
   "source": []
  },
  {
   "cell_type": "code",
   "execution_count": null,
   "id": "db5f355d",
   "metadata": {},
   "outputs": [],
   "source": []
  }
 ],
 "metadata": {
  "kernelspec": {
   "display_name": "Python 3 (ipykernel)",
   "language": "python",
   "name": "python3"
  },
  "language_info": {
   "codemirror_mode": {
    "name": "ipython",
    "version": 3
   },
   "file_extension": ".py",
   "mimetype": "text/x-python",
   "name": "python",
   "nbconvert_exporter": "python",
   "pygments_lexer": "ipython3",
   "version": "3.10.4"
  }
 },
 "nbformat": 4,
 "nbformat_minor": 5
}

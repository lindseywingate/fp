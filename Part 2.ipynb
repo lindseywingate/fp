{
 "cells": [
  {
   "cell_type": "code",
   "execution_count": 1,
   "id": "21798a6f",
   "metadata": {},
   "outputs": [],
   "source": [
    "import cv2\n",
    "import numpy as np\n",
    "from PIL import Image"
   ]
  },
  {
   "cell_type": "code",
   "execution_count": 2,
   "id": "d690b47b",
   "metadata": {},
   "outputs": [],
   "source": [
    " with open(\"dataset\\Videos\\data_test1.rgb\", \"rb\") as f:\n",
    "    v = np.fromfile(f, np.dtype('B'))"
   ]
  },
  {
   "cell_type": "code",
   "execution_count": 3,
   "id": "e05bd04d",
   "metadata": {},
   "outputs": [],
   "source": [
    "#setting the number of pixels in frame\n",
    "pxct = 129600\n",
    "#setting the number of frames\n",
    "frct = (int)(v.size/(3*pxct))"
   ]
  },
  {
   "cell_type": "code",
   "execution_count": 4,
   "id": "42ebf9d8",
   "metadata": {},
   "outputs": [],
   "source": [
    "final_video = []\n",
    "for frame_number in range(frct):\n",
    "        start = (frame_number) * pxct * 3\n",
    "        curr_frame = v[start:start + 3 * pxct]\n",
    "        final_frame = np.reshape(curr_frame, ( 480,270, 3), order = 'F')\n",
    "        final_frame = np.rot90(final_frame,3)\n",
    "        final_frame = np.flip(final_frame,1)\n",
    "        final_video.append(final_frame)"
   ]
  },
  {
   "cell_type": "code",
   "execution_count": 5,
   "id": "cdf2157f",
   "metadata": {},
   "outputs": [],
   "source": [
    "#create the video\n",
    "out = cv2.VideoWriter('video.avi', cv2.VideoWriter_fourcc(*'DIVX'), 30, (480, 270))\n",
    "\n",
    "for i in range(frct):\n",
    "    out.write(final_video[i])\n",
    "\n",
    "out.release()"
   ]
  },
  {
   "cell_type": "code",
   "execution_count": 6,
   "id": "cef44917",
   "metadata": {},
   "outputs": [],
   "source": [
    "from skimage.metrics import structural_similarity"
   ]
  },
  {
   "cell_type": "code",
   "execution_count": 7,
   "id": "1000ef28",
   "metadata": {},
   "outputs": [],
   "source": [
    "# Convert images to grayscale\n",
    "i1 = cv2.cvtColor(final_video[100], cv2.COLOR_BGR2GRAY)\n",
    "i2 = cv2.cvtColor(final_video[2000], cv2.COLOR_BGR2GRAY)\n"
   ]
  },
  {
   "cell_type": "code",
   "execution_count": 8,
   "id": "143db5ae",
   "metadata": {},
   "outputs": [
    {
     "name": "stdout",
     "output_type": "stream",
     "text": [
      "Structural Similarity Index: 0.08990872841526934\n"
     ]
    }
   ],
   "source": [
    "(score, diff) = structural_similarity(i1, i2, full=True)\n",
    "diff = (diff * 255).astype(\"uint8\")\n",
    "print(\"Structural Similarity Index: {}\".format(score))"
   ]
  }
 ],
 "metadata": {
  "kernelspec": {
   "display_name": "Python 3 (ipykernel)",
   "language": "python",
   "name": "python3"
  },
  "language_info": {
   "codemirror_mode": {
    "name": "ipython",
    "version": 3
   },
   "file_extension": ".py",
   "mimetype": "text/x-python",
   "name": "python",
   "nbconvert_exporter": "python",
   "pygments_lexer": "ipython3",
   "version": "3.10.4"
  }
 },
 "nbformat": 4,
 "nbformat_minor": 5
}

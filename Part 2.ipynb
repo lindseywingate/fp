{
 "cells": [
  {
   "cell_type": "code",
   "execution_count": 4,
   "id": "21798a6f",
   "metadata": {},
   "outputs": [],
   "source": [
    "import cv2\n",
    "import numpy as np\n",
    "from PIL import Image"
   ]
  },
  {
   "cell_type": "code",
   "execution_count": 5,
   "id": "d690b47b",
   "metadata": {},
   "outputs": [],
   "source": [
    " with open(\"dataset\\Videos\\data_test1.rgb\", \"rb\") as f:\n",
    "    v = np.fromfile(f, np.dtype('B'))"
   ]
  },
  {
   "cell_type": "code",
   "execution_count": 6,
   "id": "e05bd04d",
   "metadata": {},
   "outputs": [],
   "source": [
    "#setting the number of pixels in frame\n",
    "pxct = 129600\n",
    "#setting the number of frames\n",
    "frct = (int)(v.size/(3*pxct))"
   ]
  },
  {
   "cell_type": "code",
   "execution_count": 7,
   "id": "42ebf9d8",
   "metadata": {},
   "outputs": [],
   "source": [
    "final_video = []\n",
    "for frame_number in range(frct):\n",
    "        start = (frame_number) * pxct * 3\n",
    "        curr_frame = v[start:start + 3 * pxct]\n",
    "        final_frame = np.reshape(curr_frame, ( 480,270, 3), order = 'F')\n",
    "        final_frame = np.rot90(final_frame,3)\n",
    "        final_frame = np.flip(final_frame,1)\n",
    "        final_video.append(final_frame)"
   ]
  },
  {
   "cell_type": "code",
   "execution_count": 8,
   "id": "cdf2157f",
   "metadata": {},
   "outputs": [],
   "source": [
    "#create the video\n",
    "out = cv2.VideoWriter('video.avi', cv2.VideoWriter_fourcc(*'DIVX'), 30, (480, 270))\n",
    "\n",
    "for i in range(frct):\n",
    "    out.write(final_video[i])\n",
    "\n",
    "out.release()"
   ]
  },
  {
   "cell_type": "code",
   "execution_count": 9,
   "id": "cef44917",
   "metadata": {},
   "outputs": [],
   "source": [
    "from skimage.metrics import structural_similarity"
   ]
  },
  {
   "cell_type": "code",
   "execution_count": 26,
   "id": "fd35403a",
   "metadata": {},
   "outputs": [],
   "source": [
    "new_shot = []\n",
    "for frame_number in range(frct - 1):\n",
    "    # Convert images to grayscale\n",
    "    hist1 = cv2.calcHist([final_video[frame_number]],[0],None,[256],[0,256])\n",
    "    hist2 = cv2.calcHist([final_video[frame_number + 1]],[0],None,[256],[0,256])\n",
    "    score=cv2.compareHist(hist1,hist2,cv2.HISTCMP_BHATTACHARYYA)\n",
    "    if score > 0.2:\n",
    "        new_shot.append(frame_number)\n",
    "        data = Image.fromarray(final_video[frame_number]).convert('RGB')\n",
    "        data.save('images/{}.png'.format(frame_number))\n",
    "        data = Image.fromarray(final_video[frame_number+1]).convert('RGB')\n",
    "        data.save('images/{}.png'.format(frame_number+1))"
   ]
  },
  {
   "cell_type": "code",
   "execution_count": 11,
   "id": "143db5ae",
   "metadata": {},
   "outputs": [
    {
     "name": "stdout",
     "output_type": "stream",
     "text": [
      "Structural Similarity Index: 0.16868839552965767\n"
     ]
    }
   ],
   "source": [
    "i1 = cv2.cvtColor(final_video[frame_number], cv2.COLOR_BGR2GRAY)\n",
    "i2 = cv2.cvtColor(final_video[frame_number - 1], cv2.COLOR_BGR2GRAY)\n",
    "(score, diff) = structural_similarity(i1, i2, full=True)\n",
    "print(\"Structural Similarity Index: {}\".format(score))"
   ]
  },
  {
   "cell_type": "code",
   "execution_count": 21,
   "id": "38a7309d",
   "metadata": {},
   "outputs": [],
   "source": [
    "hist1 = cv2.calcHist([final_video[0]],[0],None,[256],[0,256])\n",
    "hist2 = cv2.calcHist([final_video[5]],[0],None,[256],[0,256])\n",
    "a=cv2.compareHist(hist1,hist2,cv2.HISTCMP_BHATTACHARYYA)"
   ]
  },
  {
   "cell_type": "code",
   "execution_count": 22,
   "id": "2f9a3d85",
   "metadata": {},
   "outputs": [
    {
     "data": {
      "text/plain": [
       "0.08054781646879208"
      ]
     },
     "execution_count": 22,
     "metadata": {},
     "output_type": "execute_result"
    }
   ],
   "source": [
    "a"
   ]
  },
  {
   "cell_type": "code",
   "execution_count": 15,
   "id": "3056372f",
   "metadata": {},
   "outputs": [
    {
     "data": {
      "text/plain": [
       "[605,\n",
       " 1945,\n",
       " 2012,\n",
       " 2023,\n",
       " 2024,\n",
       " 2025,\n",
       " 2027,\n",
       " 2034,\n",
       " 2035,\n",
       " 2040,\n",
       " 2041,\n",
       " 2044,\n",
       " 2045,\n",
       " 2046,\n",
       " 2047,\n",
       " 2141,\n",
       " 2189,\n",
       " 2190,\n",
       " 2223,\n",
       " 2225,\n",
       " 2226,\n",
       " 2227,\n",
       " 2228,\n",
       " 2231,\n",
       " 2232]"
      ]
     },
     "execution_count": 15,
     "metadata": {},
     "output_type": "execute_result"
    }
   ],
   "source": [
    "new_shot"
   ]
  }
 ],
 "metadata": {
  "kernelspec": {
   "display_name": "Python 3 (ipykernel)",
   "language": "python",
   "name": "python3"
  },
  "language_info": {
   "codemirror_mode": {
    "name": "ipython",
    "version": 3
   },
   "file_extension": ".py",
   "mimetype": "text/x-python",
   "name": "python",
   "nbconvert_exporter": "python",
   "pygments_lexer": "ipython3",
   "version": "3.10.4"
  }
 },
 "nbformat": 4,
 "nbformat_minor": 5
}

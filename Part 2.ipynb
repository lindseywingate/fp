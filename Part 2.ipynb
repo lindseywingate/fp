{
 "cells": [
  {
   "cell_type": "code",
   "execution_count": 1,
   "id": "21798a6f",
   "metadata": {},
   "outputs": [],
   "source": [
    "import cv2\n",
    "import numpy as np\n",
    "from PIL import Image"
   ]
  },
  {
   "cell_type": "code",
   "execution_count": 2,
   "id": "d690b47b",
   "metadata": {},
   "outputs": [],
   "source": [
    " with open(\"dataset\\Videos\\data_test1.rgb\", \"rb\") as f:\n",
    "    v = np.fromfile(f, np.dtype('B'))"
   ]
  },
  {
   "cell_type": "code",
   "execution_count": 3,
   "id": "e05bd04d",
   "metadata": {},
   "outputs": [],
   "source": [
    "#setting the number of pixels in frame\n",
    "pxct = 129600\n",
    "#setting the number of frames\n",
    "frct = (int)(v.size/(3*pxct))"
   ]
  },
  {
   "cell_type": "code",
   "execution_count": 22,
   "id": "42ebf9d8",
   "metadata": {},
   "outputs": [],
   "source": [
    "final_video = []\n",
    "for frame_number in range(frct):\n",
    "        start = (frame_number) * pxct * 3\n",
    "        curr_frame = v[start:start + 3 * pxct]\n",
    "        final_frame = np.reshape(curr_frame, ( 480,270, 3), order = 'F')\n",
    "        final_frame = np.rot90(final_frame,3)\n",
    "        final_frame = np.flip(final_frame,1)\n",
    "        final_video.append(final_frame)"
   ]
  },
  {
   "cell_type": "code",
   "execution_count": 23,
   "id": "cdf2157f",
   "metadata": {},
   "outputs": [],
   "source": [
    "#create the video\n",
    "out = cv2.VideoWriter('video.avi', cv2.VideoWriter_fourcc(*'DIVX'), 30, (480, 270))\n",
    "\n",
    "for i in range(frct):\n",
    "    out.write(final_video[i])\n",
    "\n",
    "out.release()"
   ]
  },
  {
   "cell_type": "code",
   "execution_count": 6,
   "id": "cef44917",
   "metadata": {},
   "outputs": [],
   "source": [
    "from skimage.metrics import structural_similarity\n",
    "frame_stats = np.zeros((9000, 2)).tolist()"
   ]
  },
  {
   "cell_type": "code",
   "execution_count": 19,
   "id": "93d16fa8",
   "metadata": {},
   "outputs": [],
   "source": [
    "for frame_number in range(frct - 1):\n",
    "    #calculate new shots with histogram\n",
    "    #less means more similar\n",
    "    hist1 = cv2.calcHist([final_video[frame_number]],[0],None,[256],[0,256])\n",
    "    hist2 = cv2.calcHist([final_video[frame_number + 1]],[0],None,[256],[0,256])\n",
    "    score=cv2.compareHist(hist1,hist2,cv2.HISTCMP_BHATTACHARYYA)\n",
    "    frame_stats[frame_number][0] = score\n",
    "    #store score for ssi\n",
    "    #less means more similar\n",
    "    #i1 = cv2.cvtColor(final_video[frame_number], cv2.COLOR_BGR2GRAY)\n",
    "    #i2 = cv2.cvtColor(final_video[frame_number + 1], cv2.COLOR_BGR2GRAY)\n",
    "    #score2 = structural_similarity(i1, i2)\n",
    "    #score2 = 1-score2 \n",
    "    #frame_stats[frame_number][1] = score2\n",
    "    if score > 0.3:\n",
    "        #if score + score2 > 0.3:\n",
    "        data = Image.fromarray(final_video[frame_number]).convert('RGB')\n",
    "        data.save('images/{}.png'.format(frame_number))\n",
    "        data = Image.fromarray(final_video[frame_number+1]).convert('RGB')\n",
    "        data.save('images/{}.png'.format(frame_number+1))"
   ]
  },
  {
   "cell_type": "code",
   "execution_count": 14,
   "id": "143db5ae",
   "metadata": {},
   "outputs": [
    {
     "name": "stdout",
     "output_type": "stream",
     "text": [
      "1.0\n"
     ]
    }
   ],
   "source": [
    "#calculate the ssi \n",
    "i1 = cv2.cvtColor(final_video[0], cv2.COLOR_BGR2GRAY)\n",
    "i2 = cv2.cvtColor(final_video[1], cv2.COLOR_BGR2GRAY)\n",
    "score2 = structural_similarity(i1, i2)\n",
    "print(score2)"
   ]
  },
  {
   "cell_type": "code",
   "execution_count": 17,
   "id": "42b898df",
   "metadata": {},
   "outputs": [
    {
     "name": "stdout",
     "output_type": "stream",
     "text": [
      "0.0\n"
     ]
    }
   ],
   "source": [
    "hist1 = cv2.calcHist([final_video[0]],[0],None,[256],[0,256])\n",
    "hist2 = cv2.calcHist([final_video[1]],[0],None,[256],[0,256])\n",
    "a=cv2.compareHist(hist1,hist2,cv2.HISTCMP_BHATTACHARYYA)\n",
    "print(a)"
   ]
  },
  {
   "cell_type": "code",
   "execution_count": null,
   "id": "992c1f44",
   "metadata": {},
   "outputs": [],
   "source": [
    "a"
   ]
  },
  {
   "cell_type": "code",
   "execution_count": 18,
   "id": "a97c98d5",
   "metadata": {},
   "outputs": [
    {
     "data": {
      "text/plain": [
       "[0.0, 0.0]"
      ]
     },
     "execution_count": 18,
     "metadata": {},
     "output_type": "execute_result"
    }
   ],
   "source": [
    "frame_stats[0]"
   ]
  }
 ],
 "metadata": {
  "kernelspec": {
   "display_name": "Python 3 (ipykernel)",
   "language": "python",
   "name": "python3"
  },
  "language_info": {
   "codemirror_mode": {
    "name": "ipython",
    "version": 3
   },
   "file_extension": ".py",
   "mimetype": "text/x-python",
   "name": "python",
   "nbconvert_exporter": "python",
   "pygments_lexer": "ipython3",
   "version": "3.10.4"
  }
 },
 "nbformat": 4,
 "nbformat_minor": 5
}
